{
 "cells": [
  {
   "cell_type": "code",
   "execution_count": 1,
   "id": "bc887f16-88a2-4232-9028-386f36f3712d",
   "metadata": {},
   "outputs": [],
   "source": [
    "# downloading the dataset fromthe google quick draw."
   ]
  },
  {
   "cell_type": "code",
   "execution_count": 3,
   "id": "3546a9e2-eee3-4315-8b32-447c6b97121a",
   "metadata": {},
   "outputs": [
    {
     "name": "stdout",
     "output_type": "stream",
     "text": [
      "cat.npy downloaded successfully!\n"
     ]
    }
   ],
   "source": [
    "import urllib.request\n",
    "\n",
    "# Specify the category you're interested in\n",
    "category = \"cat\"\n",
    "url = f\"https://storage.googleapis.com/quickdraw_dataset/full/numpy_bitmap/{category}.npy\"\n",
    "file_name = f\"{category}.npy\"\n",
    "\n",
    "# Download the file\n",
    "urllib.request.urlretrieve(url, file_name)\n",
    "print(f\"{file_name} downloaded successfully!\")\n"
   ]
  },
  {
   "cell_type": "code",
   "execution_count": 5,
   "id": "11794197-b738-48ee-911a-804530c30e9e",
   "metadata": {},
   "outputs": [
    {
     "name": "stdout",
     "output_type": "stream",
     "text": [
      "Shape of sample data: (300, 784)\n"
     ]
    }
   ],
   "source": [
    "import numpy as np\n",
    "\n",
    "# Load the full dataset\n",
    "data = np.load(\"data/cat.npy\")\n",
    "\n",
    "# Use only the first 300 samples\n",
    "sample_data = data[:300]\n",
    "print(\"Shape of sample data:\", sample_data.shape)"
   ]
  },
  {
   "cell_type": "code",
   "execution_count": 8,
   "id": "a297f7a3-2fc4-4fb4-b45a-829f4b03e63a",
   "metadata": {},
   "outputs": [
    {
     "name": "stdout",
     "output_type": "stream",
     "text": [
      "dog.npy downloaded successfully!\n",
      "house.npy downloaded successfully!\n",
      "tree.npy downloaded successfully!\n",
      "car.npy downloaded successfully!\n",
      "airplane.npy downloaded successfully!\n",
      "fish.npy downloaded successfully!\n",
      "flower.npy downloaded successfully!\n",
      "cup.npy downloaded successfully!\n",
      "clock.npy downloaded successfully!\n",
      "star.npy downloaded successfully!\n",
      "umbrella.npy downloaded successfully!\n"
     ]
    }
   ],
   "source": [
    "import urllib.request\n",
    "\n",
    "categories = [\"dog\", \"house\", \"tree\", \"car\", \"airplane\", \"fish\", \"flower\", \"cup\", \"clock\", \"star\", \"umbrella\"]\n",
    "\n",
    "for category in categories:\n",
    "    url = f\"https://storage.googleapis.com/quickdraw_dataset/full/numpy_bitmap/{category}.npy\"\n",
    "    file_name = f\"{category}.npy\"\n",
    "    urllib.request.urlretrieve(url, file_name)\n",
    "    print(f\"{file_name} downloaded successfully!\")"
   ]
  },
  {
   "cell_type": "code",
   "execution_count": 9,
   "id": "1a20d689-b1e1-40cb-91ab-11b842c175af",
   "metadata": {},
   "outputs": [],
   "source": [
    "# making the small files of the dataset to handle and properly managable.."
   ]
  },
  {
   "cell_type": "code",
   "execution_count": 5,
   "id": "4d76cb02-1491-48f9-818f-5fd1bc3571af",
   "metadata": {},
   "outputs": [
    {
     "name": "stdout",
     "output_type": "stream",
     "text": [
      "data\\cat.npy exists and seems complete.\n",
      "Saved data\\cat_sample.npy with 650 samples\n",
      "data\\dog.npy exists and seems complete.\n",
      "Error loading data\\dog.npy: cannot reshape array of size 109428656 into shape (152159,784). Re-downloading...\n",
      "Saved data\\dog_sample.npy with 650 samples\n",
      "data\\house.npy exists and seems complete.\n",
      "Saved data\\house_sample.npy with 650 samples\n",
      "data\\tree.npy exists and seems complete.\n",
      "Saved data\\tree_sample.npy with 650 samples\n",
      "data\\car.npy exists and seems complete.\n",
      "Saved data\\car_sample.npy with 650 samples\n",
      "data\\airplane.npy exists and seems complete.\n",
      "Saved data\\airplane_sample.npy with 650 samples\n",
      "data\\fish.npy exists and seems complete.\n",
      "Saved data\\fish_sample.npy with 650 samples\n",
      "data\\flower.npy exists and seems complete.\n",
      "Saved data\\flower_sample.npy with 650 samples\n",
      "data\\cup.npy exists and seems complete.\n",
      "Saved data\\cup_sample.npy with 650 samples\n",
      "data\\clock.npy exists and seems complete.\n",
      "Saved data\\clock_sample.npy with 650 samples\n",
      "data\\star.npy exists and seems complete.\n",
      "Saved data\\star_sample.npy with 650 samples\n",
      "data\\umbrella.npy exists and seems complete.\n",
      "Saved data\\umbrella_sample.npy with 650 samples\n"
     ]
    }
   ],
   "source": [
    "import urllib.request\n",
    "import numpy as np\n",
    "import os\n",
    "\n",
    "# Define the data directory and create it if it doesn't exist\n",
    "data_dir = \"data\"\n",
    "if not os.path.exists(data_dir):\n",
    "    os.makedirs(data_dir)\n",
    "\n",
    "# List of categories\n",
    "categories = [\"cat\", \"dog\", \"house\", \"tree\", \"car\", \"airplane\", \"fish\", \"flower\", \"cup\", \"clock\", \"star\", \"umbrella\"]\n",
    "\n",
    "# Define the number of samples to extract (650 samples is between 600 and 700)\n",
    "sample_size = 650\n",
    "\n",
    "# Expected minimum file size in bytes (example: 40 MB)\n",
    "expected_min_size = 40 * 1024 * 1024  # 40 MB\n",
    "\n",
    "for category in categories:\n",
    "    full_file = os.path.join(data_dir, f\"{category}.npy\")\n",
    "    sample_file = os.path.join(data_dir, f\"{category}_sample.npy\")\n",
    "    url = f\"https://storage.googleapis.com/quickdraw_dataset/full/numpy_bitmap/{category}.npy\"\n",
    "    \n",
    "    # Check if file exists and is large enough; if not, download it\n",
    "    if not os.path.exists(full_file) or os.path.getsize(full_file) < expected_min_size:\n",
    "        print(f\"Downloading {category} dataset...\")\n",
    "        urllib.request.urlretrieve(url, full_file)\n",
    "        print(f\"{full_file} downloaded successfully!\")\n",
    "    else:\n",
    "        print(f\"{full_file} exists and seems complete.\")\n",
    "\n",
    "    # Try loading the full dataset, if it fails, re-download the file\n",
    "    try:\n",
    "        data = np.load(full_file)\n",
    "    except ValueError as e:\n",
    "        print(f\"Error loading {full_file}: {e}. Re-downloading...\")\n",
    "        os.remove(full_file)\n",
    "        urllib.request.urlretrieve(url, full_file)\n",
    "        data = np.load(full_file)\n",
    "    \n",
    "    total_samples = data.shape[0]\n",
    "    \n",
    "    # If the dataset has fewer samples than sample_size, use all available samples; otherwise, select a random subset\n",
    "    if total_samples < sample_size:\n",
    "        print(f\"Category {category} has only {total_samples} samples. Using all available samples.\")\n",
    "        sample_data = data\n",
    "    else:\n",
    "        sample_indices = np.random.choice(total_samples, sample_size, replace=False)\n",
    "        sample_data = data[sample_indices]\n",
    "    \n",
    "    # Save the subset to a new file in the data folder\n",
    "    np.save(sample_file, sample_data)\n",
    "    print(f\"Saved {sample_file} with {sample_data.shape[0]} samples\")\n"
   ]
  },
  {
   "cell_type": "code",
   "execution_count": null,
   "id": "698fce0b-5fd7-433e-a779-cc960b45a237",
   "metadata": {},
   "outputs": [],
   "source": []
  }
 ],
 "metadata": {
  "kernelspec": {
   "display_name": "Python 3 (ipykernel)",
   "language": "python",
   "name": "python3"
  },
  "language_info": {
   "codemirror_mode": {
    "name": "ipython",
    "version": 3
   },
   "file_extension": ".py",
   "mimetype": "text/x-python",
   "name": "python",
   "nbconvert_exporter": "python",
   "pygments_lexer": "ipython3",
   "version": "3.12.4"
  }
 },
 "nbformat": 4,
 "nbformat_minor": 5
}
